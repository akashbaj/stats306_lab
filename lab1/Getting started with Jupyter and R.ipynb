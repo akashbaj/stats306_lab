{
 "cells": [
  {
   "cell_type": "markdown",
   "metadata": {},
   "source": [
    "# Jupyter Installation"
   ]
  },
  {
   "cell_type": "markdown",
   "metadata": {},
   "source": [
    "Jupyter is a convienent way to write, display, and run code alongside equations and text. It runs on Python behind the scenes, but works with many other programming languages such as R. \n",
    "\n",
    "If you've never used Jupyter before, the recommended way to install it is through Anaconda. Anaconda is a Python distribution which bundles all the basic packages we'll need. See here for instructions on how to install Anaconda: https://docs.anaconda.com/anaconda/install/"
   ]
  },
  {
   "cell_type": "markdown",
   "metadata": {},
   "source": [
    "https://www.anaconda.com/products/individual#Downloads"
   ]
  },
  {
   "cell_type": "markdown",
   "metadata": {},
   "source": [
    "After installing Anaconda, Jupyter should already be available. On Windows, open \"Anaconda Prompt\" and type:\n",
    "\n",
    "```\n",
    "jupyter notebook\n",
    "```"
   ]
  },
  {
   "cell_type": "code",
   "execution_count": null,
   "metadata": {},
   "outputs": [],
   "source": []
  },
  {
   "cell_type": "markdown",
   "metadata": {},
   "source": [
    "## Windows"
   ]
  },
  {
   "cell_type": "markdown",
   "metadata": {},
   "source": [
    "```\n",
    "conda install\n",
    "```"
   ]
  },
  {
   "cell_type": "code",
   "execution_count": null,
   "metadata": {},
   "outputs": [],
   "source": []
  },
  {
   "cell_type": "markdown",
   "metadata": {},
   "source": [
    "# R Installation"
   ]
  },
  {
   "cell_type": "markdown",
   "metadata": {},
   "source": [
    "1.  Go to https://cran.r-project.org\n",
    "1.  Click \"Download R for ...\" where \"...\" is your operating system\n",
    "1.  Click on \"base\"\n",
    "1.  Click on \"Download R 4.0.2 for ...\"; this will download an installer"
   ]
  },
  {
   "cell_type": "markdown",
   "metadata": {},
   "source": [
    "## Windows: Add R to system PATH"
   ]
  },
  {
   "cell_type": "markdown",
   "metadata": {},
   "source": [
    "On Windows, you need to add R to your system PATH. http://yizhexu.com/2017/02/r-path/\n",
    "\n",
    "1.  Open up the folder C:\\Program Files\\R (or wherever you installed R).\n",
    "1.  Look for the latest version of R you have installed (i.e. there should be a folder named 4.0.2). Make note of this folder name\n",
    "1.  Type \"View advanced system settings\" in Start and press enter. 1.  Click on the button that says \"Environment Variables\".\n",
    "1.  Under \"System Variables\", select Path and click on edit.\n",
    "1.  Click \"New\", and enter the following:\n",
    "\n",
    "```\n",
    "C:\\Program Files\\R\\R-4.0.2\\bin\n",
    "```\n",
    "\n",
    "Now R will be in your System PATH. This is so that you can run R from within the Anaconda Prompt"
   ]
  },
  {
   "cell_type": "markdown",
   "metadata": {},
   "source": [
    "# Kernels"
   ]
  },
  {
   "cell_type": "markdown",
   "metadata": {},
   "source": [
    "Before you can use Jupyter with R, you need to install and enable the \"IRkernel\" package in R. This registers R with Jupyter so Jupyter knows where the R installation is."
   ]
  },
  {
   "cell_type": "markdown",
   "metadata": {},
   "source": [
    "1.  On Windows, open up Anaconda Prompt\n",
    "1.  Type ```R``` to start the R interpreter.\n",
    "1.  Type ```install.packages(\"IRkernel\")``` and hit enter\n",
    "    1.  If it prompts you to use a personal library, say \"Yes\".\n",
    "    1.  If it prompts you to create a personal library, say \"Yes\".\n",
    "    1.  If there's a popup on which mirror to use, select the one that says \"0-cloud\"\n",
    "1.  Type ```IRkernel::installspec()```"
   ]
  },
  {
   "cell_type": "markdown",
   "metadata": {},
   "source": [
    "# Run Jupyter"
   ]
  },
  {
   "cell_type": "markdown",
   "metadata": {},
   "source": [
    "Now, go back to the Anaconda Prompt and run ```jupyter notebook``` again. You should see the option to create a new notebook with \"R\""
   ]
  },
  {
   "cell_type": "code",
   "execution_count": null,
   "metadata": {},
   "outputs": [],
   "source": []
  }
 ],
 "metadata": {
  "kernelspec": {
   "display_name": "R",
   "language": "R",
   "name": "ir"
  },
  "language_info": {
   "codemirror_mode": "r",
   "file_extension": ".r",
   "mimetype": "text/x-r-source",
   "name": "R",
   "pygments_lexer": "r",
   "version": "4.0.2"
  }
 },
 "nbformat": 4,
 "nbformat_minor": 4
}
